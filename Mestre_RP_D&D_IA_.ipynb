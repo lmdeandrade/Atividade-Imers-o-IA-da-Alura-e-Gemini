{
  "nbformat": 4,
  "nbformat_minor": 0,
  "metadata": {
    "colab": {
      "provenance": [],
      "authorship_tag": "ABX9TyOJrZdJSVgScHHWVkHk05Bb",
      "include_colab_link": true
    },
    "kernelspec": {
      "name": "python3",
      "display_name": "Python 3"
    },
    "language_info": {
      "name": "python"
    }
  },
  "cells": [
    {
      "cell_type": "markdown",
      "metadata": {
        "id": "view-in-github",
        "colab_type": "text"
      },
      "source": [
        "<a href=\"https://colab.research.google.com/github/lmdeandrade/Atividade-Imers-o-IA-da-Alura-e-Gemini/blob/main/Mestre_RP_D%26D_IA_.ipynb\" target=\"_parent\"><img src=\"https://colab.research.google.com/assets/colab-badge.svg\" alt=\"Open In Colab\"/></a>"
      ]
    },
    {
      "cell_type": "code",
      "execution_count": 3,
      "metadata": {
        "colab": {
          "base_uri": "https://localhost:8080/"
        },
        "id": "ybsVS_YbE_rf",
        "outputId": "732aa8f1-7155-4a85-88bd-1d2d60a89145"
      },
      "outputs": [
        {
          "output_type": "stream",
          "name": "stdout",
          "text": [
            "Requirement already satisfied: google-genai in /usr/local/lib/python3.11/dist-packages (1.15.0)\n",
            "Requirement already satisfied: anyio<5.0.0,>=4.8.0 in /usr/local/lib/python3.11/dist-packages (from google-genai) (4.9.0)\n",
            "Requirement already satisfied: google-auth<3.0.0,>=2.14.1 in /usr/local/lib/python3.11/dist-packages (from google-genai) (2.38.0)\n",
            "Requirement already satisfied: httpx<1.0.0,>=0.28.1 in /usr/local/lib/python3.11/dist-packages (from google-genai) (0.28.1)\n",
            "Requirement already satisfied: pydantic<3.0.0,>=2.0.0 in /usr/local/lib/python3.11/dist-packages (from google-genai) (2.11.4)\n",
            "Requirement already satisfied: requests<3.0.0,>=2.28.1 in /usr/local/lib/python3.11/dist-packages (from google-genai) (2.32.3)\n",
            "Requirement already satisfied: websockets<15.1.0,>=13.0.0 in /usr/local/lib/python3.11/dist-packages (from google-genai) (15.0.1)\n",
            "Requirement already satisfied: typing-extensions<5.0.0,>=4.11.0 in /usr/local/lib/python3.11/dist-packages (from google-genai) (4.13.2)\n",
            "Requirement already satisfied: idna>=2.8 in /usr/local/lib/python3.11/dist-packages (from anyio<5.0.0,>=4.8.0->google-genai) (3.10)\n",
            "Requirement already satisfied: sniffio>=1.1 in /usr/local/lib/python3.11/dist-packages (from anyio<5.0.0,>=4.8.0->google-genai) (1.3.1)\n",
            "Requirement already satisfied: cachetools<6.0,>=2.0.0 in /usr/local/lib/python3.11/dist-packages (from google-auth<3.0.0,>=2.14.1->google-genai) (5.5.2)\n",
            "Requirement already satisfied: pyasn1-modules>=0.2.1 in /usr/local/lib/python3.11/dist-packages (from google-auth<3.0.0,>=2.14.1->google-genai) (0.4.2)\n",
            "Requirement already satisfied: rsa<5,>=3.1.4 in /usr/local/lib/python3.11/dist-packages (from google-auth<3.0.0,>=2.14.1->google-genai) (4.9.1)\n",
            "Requirement already satisfied: certifi in /usr/local/lib/python3.11/dist-packages (from httpx<1.0.0,>=0.28.1->google-genai) (2025.4.26)\n",
            "Requirement already satisfied: httpcore==1.* in /usr/local/lib/python3.11/dist-packages (from httpx<1.0.0,>=0.28.1->google-genai) (1.0.9)\n",
            "Requirement already satisfied: h11>=0.16 in /usr/local/lib/python3.11/dist-packages (from httpcore==1.*->httpx<1.0.0,>=0.28.1->google-genai) (0.16.0)\n",
            "Requirement already satisfied: annotated-types>=0.6.0 in /usr/local/lib/python3.11/dist-packages (from pydantic<3.0.0,>=2.0.0->google-genai) (0.7.0)\n",
            "Requirement already satisfied: pydantic-core==2.33.2 in /usr/local/lib/python3.11/dist-packages (from pydantic<3.0.0,>=2.0.0->google-genai) (2.33.2)\n",
            "Requirement already satisfied: typing-inspection>=0.4.0 in /usr/local/lib/python3.11/dist-packages (from pydantic<3.0.0,>=2.0.0->google-genai) (0.4.0)\n",
            "Requirement already satisfied: charset-normalizer<4,>=2 in /usr/local/lib/python3.11/dist-packages (from requests<3.0.0,>=2.28.1->google-genai) (3.4.2)\n",
            "Requirement already satisfied: urllib3<3,>=1.21.1 in /usr/local/lib/python3.11/dist-packages (from requests<3.0.0,>=2.28.1->google-genai) (2.4.0)\n",
            "Requirement already satisfied: pyasn1<0.7.0,>=0.6.1 in /usr/local/lib/python3.11/dist-packages (from pyasn1-modules>=0.2.1->google-auth<3.0.0,>=2.14.1->google-genai) (0.6.1)\n"
          ]
        }
      ],
      "source": [
        "!pip install google-genai"
      ]
    },
    {
      "cell_type": "code",
      "source": [
        "import os\n",
        "from google.colab import userdata\n",
        "os.environ[\"GOOGLE_API_KEY\"] = userdata.get(\"GOOGLE_API_KEY\")"
      ],
      "metadata": {
        "id": "FnRuuNCWFodT"
      },
      "execution_count": 4,
      "outputs": []
    },
    {
      "cell_type": "code",
      "source": [
        "from google import genai\n",
        "client = genai.Client()"
      ],
      "metadata": {
        "id": "DZhlDlk_F1wW"
      },
      "execution_count": 5,
      "outputs": []
    },
    {
      "cell_type": "code",
      "source": [
        "for model in client.models.list():\n",
        "  print(model.name)"
      ],
      "metadata": {
        "colab": {
          "base_uri": "https://localhost:8080/"
        },
        "id": "Yg27GRXkIH6M",
        "outputId": "3a1b5c38-f1fe-45bf-9d1b-bd9a76e576d6"
      },
      "execution_count": 6,
      "outputs": [
        {
          "output_type": "stream",
          "name": "stdout",
          "text": [
            "models/embedding-gecko-001\n",
            "models/gemini-1.0-pro-vision-latest\n",
            "models/gemini-pro-vision\n",
            "models/gemini-1.5-pro-latest\n",
            "models/gemini-1.5-pro-001\n",
            "models/gemini-1.5-pro-002\n",
            "models/gemini-1.5-pro\n",
            "models/gemini-1.5-flash-latest\n",
            "models/gemini-1.5-flash-001\n",
            "models/gemini-1.5-flash-001-tuning\n",
            "models/gemini-1.5-flash\n",
            "models/gemini-1.5-flash-002\n",
            "models/gemini-1.5-flash-8b\n",
            "models/gemini-1.5-flash-8b-001\n",
            "models/gemini-1.5-flash-8b-latest\n",
            "models/gemini-1.5-flash-8b-exp-0827\n",
            "models/gemini-1.5-flash-8b-exp-0924\n",
            "models/gemini-2.5-pro-exp-03-25\n",
            "models/gemini-2.5-pro-preview-03-25\n",
            "models/gemini-2.5-flash-preview-04-17\n",
            "models/gemini-2.5-flash-preview-04-17-thinking\n",
            "models/gemini-2.5-pro-preview-05-06\n",
            "models/gemini-2.0-flash-exp\n",
            "models/gemini-2.0-flash\n",
            "models/gemini-2.0-flash-001\n",
            "models/gemini-2.0-flash-exp-image-generation\n",
            "models/gemini-2.0-flash-lite-001\n",
            "models/gemini-2.0-flash-lite\n",
            "models/gemini-2.0-flash-preview-image-generation\n",
            "models/gemini-2.0-flash-lite-preview-02-05\n",
            "models/gemini-2.0-flash-lite-preview\n",
            "models/gemini-2.0-pro-exp\n",
            "models/gemini-2.0-pro-exp-02-05\n",
            "models/gemini-exp-1206\n",
            "models/gemini-2.0-flash-thinking-exp-01-21\n",
            "models/gemini-2.0-flash-thinking-exp\n",
            "models/gemini-2.0-flash-thinking-exp-1219\n",
            "models/learnlm-2.0-flash-experimental\n",
            "models/gemma-3-1b-it\n",
            "models/gemma-3-4b-it\n",
            "models/gemma-3-12b-it\n",
            "models/gemma-3-27b-it\n",
            "models/embedding-001\n",
            "models/text-embedding-004\n",
            "models/gemini-embedding-exp-03-07\n",
            "models/gemini-embedding-exp\n",
            "models/aqa\n",
            "models/imagen-3.0-generate-002\n",
            "models/gemini-2.0-flash-live-001\n"
          ]
        }
      ]
    },
    {
      "cell_type": "code",
      "source": [
        "modelo = \"gemini-2.0-flash\"\n",
        "resposta = client.models.generate_content(model=modelo,\n",
        "                                           contents=\"O que é RPG de mesa?\")\n",
        "resposta.text"
      ],
      "metadata": {
        "colab": {
          "base_uri": "https://localhost:8080/",
          "height": 140
        },
        "id": "NtMp7NkqIMaI",
        "outputId": "61d2eeb2-e105-4fd3-a183-0e634e0bbaf7"
      },
      "execution_count": 7,
      "outputs": [
        {
          "output_type": "execute_result",
          "data": {
            "text/plain": [
              "'RPG de mesa (Role-Playing Game de mesa, ou Jogo de Interpretação de Papéis de mesa) é um tipo de jogo onde os participantes assumem o papel de personagens em um cenário imaginário, colaborando para criar uma história. Diferente de jogos com regras fixas e um objetivo predefinido, o RPG de mesa é caracterizado pela sua narrativa flexível e pela ênfase na interpretação dos personagens.\\n\\n**Elementos Essenciais do RPG de Mesa:**\\n\\n*   **Personagens:** Cada jogador cria e interpreta um personagem com habilidades, história e motivações próprias.\\n*   **Cenário:** Um mundo imaginário com suas próprias regras, história, geografia e cultura, onde a história se desenrola.\\n*   **Mestre (Narrador):** Um jogador que descreve o mundo, interpreta os personagens não-jogadores (NPCs), narra os eventos e aplica as regras do jogo. O Mestre é responsável por manter a história coesa e desafiadora.\\n*   **Regras:** Um sistema de regras que define como as ações dos personagens são resolvidas (por exemplo, rolagens de dados para determinar o sucesso ou fracasso de uma ação).\\n*   **Dados:** Usados para determinar o resultado de ações incertas, adicionando um elemento de aleatoriedade e desafio ao jogo.\\n*   **Interpretação:** A essência do RPG. Os jogadores devem \"entrar na pele\" de seus personagens, tomando decisões e agindo de acordo com a personalidade e motivações deles.\\n*   **Colaboração:** O RPG é uma atividade colaborativa, onde os jogadores trabalham juntos para superar desafios e construir uma história em conjunto.\\n\\n**Como funciona um jogo de RPG de mesa:**\\n\\n1.  **Preparação:** O Mestre prepara o cenário, a história e os desafios que os personagens enfrentarão. Os jogadores criam seus personagens, definindo suas características e histórico.\\n2.  **Sessão de Jogo:** O Mestre descreve a situação inicial, e os jogadores descrevem as ações de seus personagens.\\n3.  **Resolução de Ações:** Quando uma ação tem um resultado incerto, os jogadores rolam dados e comparam o resultado com as regras do jogo para determinar o sucesso ou fracasso.\\n4.  **Narração:** O Mestre narra os resultados das ações, descrevendo o impacto no mundo e nos personagens.\\n5.  **Continuação:** O ciclo de ação, resolução e narração continua, com os jogadores tomando decisões e o Mestre guiando a história.\\n\\n**Exemplos de RPGs de Mesa:**\\n\\n*   **Dungeons & Dragons (D&D):** Um dos RPGs mais populares, ambientado em um mundo de fantasia medieval com magos, guerreiros, dragões e outras criaturas.\\n*   **Call of Cthulhu:** Um RPG de horror baseado nos contos de H.P. Lovecraft, onde os jogadores investigam mistérios sobrenaturais e enfrentam horrores cósmicos.\\n*   **Vampiro: A Máscara:** Um RPG de horror gótico onde os jogadores interpretam vampiros lutando para sobreviver em um mundo sombrio e cheio de intrigas.\\n*   **Cyberpunk 2077 (RPG):**  Baseado no universo do jogo de videogame, ambientado em um futuro distópico com tecnologia avançada e corporações poderosas.\\n\\n**Benefícios de jogar RPG de mesa:**\\n\\n*   **Criatividade:** Estimula a imaginação e a capacidade de criar histórias e personagens.\\n*   **Habilidades Sociais:** Melhora a comunicação, a colaboração, a empatia e a capacidade de trabalhar em equipe.\\n*   **Resolução de Problemas:** Desenvolve a capacidade de analisar situações, tomar decisões e encontrar soluções criativas para desafios.\\n*   **Entretenimento:** Proporciona horas de diversão e imersão em mundos imaginários.\\n\\nSe você tiver mais alguma dúvida sobre RPGs de mesa, pode perguntar!\\n'"
            ],
            "application/vnd.google.colaboratory.intrinsic+json": {
              "type": "string"
            }
          },
          "metadata": {},
          "execution_count": 7
        }
      ]
    },
    {
      "cell_type": "code",
      "source": [
        "chat = client.chats.create(model=modelo)\n",
        "resposta = chat.send_message(\"Olá, estou no tédio, preciso de uma aventura!\")\n",
        "resposta.text"
      ],
      "metadata": {
        "colab": {
          "base_uri": "https://localhost:8080/",
          "height": 140
        },
        "id": "bppI5h5dJUK-",
        "outputId": "f7912cf7-45bc-4630-df11-67e050c1eccb"
      },
      "execution_count": 8,
      "outputs": [
        {
          "output_type": "execute_result",
          "data": {
            "text/plain": [
              "'Entendo completamente! O tédio pode ser um grande inimigo. Para te ajudar a sair dessa, preparei algumas ideias de aventuras, dependendo do seu nível de ousadia e do que você está buscando:\\n\\n**Aventuras para sair da rotina:**\\n\\n*   **Aventura Gastronômica:**\\n    *   **Desafio:** Cozinhe uma receita de um país que você nunca experimentou.\\n    *   **Recompensa:** Uma refeição deliciosa e a chance de aprender sobre uma nova cultura.\\n*   **Aventura Literária:**\\n    *   **Desafio:** Vá a uma biblioteca ou livraria e escolha um livro de um gênero que você nunca leu.\\n    *   **Recompensa:** Expanda seus horizontes e descubra um novo autor favorito.\\n*   **Aventura Urbana:**\\n    *   **Desafio:** Explore um bairro da sua cidade que você nunca visitou.\\n    *   **Recompensa:** Descubra novos lugares, lojas e pessoas.\\n\\n**Aventuras para sair da zona de conforto:**\\n\\n*   **Aventura Criativa:**\\n    *   **Desafio:** Comece um projeto artístico, como pintar, desenhar, escrever um conto ou aprender a tocar um instrumento.\\n    *   **Recompensa:** Desenvolva suas habilidades criativas e expresse sua individualidade.\\n*   **Aventura Social:**\\n    *   **Desafio:** Participe de um evento ou atividade em grupo que te interesse, como um clube de leitura, um curso de culinária ou um grupo de trilha.\\n    *   **Recompensa:** Conheça novas pessoas e faça novos amigos.\\n*   **Aventura de Aprendizado:**\\n    *   **Desafio:** Comece a aprender uma nova habilidade ou idioma online.\\n    *   **Recompensa:** Expanda seus conhecimentos e abra novas oportunidades.\\n\\n**Aventuras para os mais ousados:**\\n\\n*   **Aventura na Natureza:**\\n    *   **Desafio:** Faça uma trilha em uma montanha ou parque nacional próximo.\\n    *   **Recompensa:** Desfrute da beleza da natureza, faça exercício e desafie seus limites.\\n*   **Aventura Solidária:**\\n    *   **Desafio:** Seja voluntário em uma organização que te interesse.\\n    *   **Recompensa:** Ajude os outros, faça a diferença na comunidade e sinta-se realizado.\\n*   **Aventura Radical:**\\n    *   **Desafio:** Experimente uma atividade de aventura, como paraquedismo, rafting ou escalada.\\n    *   **Recompensa:** Sinta a adrenalina, supere seus medos e crie memórias inesquecíveis.\\n\\nPara escolher a aventura ideal, pense no que te motiva, no tempo que você tem disponível e no seu orçamento. Se precisar de mais ideias ou sugestões personalizadas, me diga:\\n\\n*   Quais são seus interesses?\\n*   Quanto tempo você tem disponível?\\n*   Qual é o seu orçamento?\\n*   Você prefere atividades em casa ou ao ar livre?\\n*   Você prefere atividades sozinho ou em grupo?\\n\\nCom essas informações, posso te ajudar a encontrar a aventura perfeita para acabar com o seu tédio!'"
            ],
            "application/vnd.google.colaboratory.intrinsic+json": {
              "type": "string"
            }
          },
          "metadata": {},
          "execution_count": 8
        }
      ]
    },
    {
      "cell_type": "code",
      "source": [
        "resposta = chat.send_message(\"Você é um assistente pessoal para amantes de aventuras de RPG. Crie cenários ficticios e fantasiosos de forma detalhada porém tente não se estender muito\")\n",
        "resposta.text"
      ],
      "metadata": {
        "colab": {
          "base_uri": "https://localhost:8080/",
          "height": 140
        },
        "id": "hcHyqvlIKQ7B",
        "outputId": "4eabaf23-ddd8-4c02-ada3-f6b35cea9f5d"
      },
      "execution_count": 9,
      "outputs": [
        {
          "output_type": "execute_result",
          "data": {
            "text/plain": [
              "'Entendido! Preparei alguns cenários de RPG fantasiosos e detalhados, prontos para serem explorados por amantes de aventuras como nós:\\n\\n**1. A Cidade Flutuante de Aethelgard:**\\n\\n*   **Localização:** Escondida nas nuvens eternas acima do continente de Aerilon, acessível apenas através de portais de ventos raros e imprevisíveis.\\n*   **Descrição:** Aethelgard é uma maravilha da engenharia élfica, construída sobre gigantescas plataformas de pedra flutuante e sustentada por magia ancestral. Jardins suspensos e torres de cristal dominam a paisagem, com canais de água pura fluindo entre os edifícios.\\n*   **Problema:** Uma sombra se aproxima: cristais de mana estão perdendo o brilho, portais ficando instáveis e rumores de criaturas das tempestades atacando os comerciantes aéreos. Um mago exilado pode saber o que está acontecendo.\\n*   **Possíveis Ações:** Investigar os cristais, proteger os comerciantes, encontrar o mago exilado e descobrir a fonte da corrupção mágica.\\n*   **Desafio:** A altitude, o isolamento e a dependência da magia tornam Aethelgard um lugar frágil. Uma única faísca pode levar à sua queda.\\n\\n**2. A Floresta Murmurante de Whisperwood:**\\n\\n*   **Localização:** No coração do Reino de Eldoria, uma vasta e densa floresta ancestral, lar de criaturas mágicas e segredos esquecidos.\\n*   **Descrição:** A Whisperwood é um labirinto de árvores imponentes, raízes retorcidas e riachos sinuosos. Uma névoa constante paira sobre o solo, criando uma atmosfera de mistério e perigo. As árvores parecem sussurrar segredos ao vento.\\n*   **Problema:** A harmonia da floresta está sendo perturbada por uma força sombria. Criaturas estão se tornando agressivas, plantas estão murchando e um antigo mal está despertando em suas profundezas.\\n*   **Possíveis Ações:** Rastrear a fonte da corrupção, proteger as criaturas da floresta, selar o antigo mal e restaurar o equilíbrio natural.\\n*   **Desafio:** A floresta é um lugar perigoso, cheio de armadilhas naturais, criaturas hostis e ilusões mágicas. A verdade pode estar escondida por trás de camadas de engano.\\n\\n**3. As Ruínas Submersas de Azmar:**\\n\\n*   **Localização:** No fundo do Oceano Abissal, as ruínas de uma antiga cidade humana, afogada por um cataclisma mágico há séculos.\\n*   **Descrição:** Azmar é um esqueleto de pedra, coberto de algas e corais, habitado por criaturas marinhas e fantasmas do passado. Templos desmoronados, palácios destruídos e ruas labirínticas revelam a glória e a tragédia de uma civilização perdida.\\n*   **Problema:** Um artefato de poder imenso, capaz de controlar as marés e as criaturas marinhas, foi descoberto nas ruínas. Uma seita de fanáticos religiosos pretende usá-lo para dominar o mundo.\\n*   **Possíveis Ações:** Recuperar o artefato antes que caia em mãos erradas, impedir os fanáticos religiosos e desvendar os segredos da antiga civilização.\\n*   **Desafio:** O ambiente aquático, as criaturas marinhas hostis e as armadilhas mágicas tornam Azmar um lugar mortal. O tempo é essencial, pois a seita está cada vez mais perto de alcançar seus objetivos.\\n\\nEsses são apenas alguns exemplos para despertar sua imaginação! Se quiser cenários mais específicos, me diga:\\n\\n*   Qual tipo de cenário te atrai mais (florestas, cidades, ruínas, etc.)?\\n*   Qual o nível de perigo que você busca?\\n*   Há algum tema ou elemento específico que você gostaria de incluir (magia, tecnologia, criaturas, etc.)?\\n\\nCom suas preferências, posso criar cenários ainda mais personalizados e emocionantes!'"
            ],
            "application/vnd.google.colaboratory.intrinsic+json": {
              "type": "string"
            }
          },
          "metadata": {},
          "execution_count": 9
        }
      ]
    },
    {
      "cell_type": "code",
      "source": [
        "from google.genai import types\n",
        "chat_config = types.GenerateContentConfig(\n",
        "    system_instruction = \"Você é um mestre de RPG de mesa e criará aventuras. Você ainda não sabe a classe nem as habilidades do jogador, então pergunte qual classe e habilidades ele terá antes de começar a aventura. Seja adaptativo para diferentes classes e habilidades. Espere a resposta do usuário para responder e dar continuidade a aventura. interprete diferentes personagens baseados no jogo de RPG D&D. Fale de modo heróico. Avise ao jogador que para ele evitar dizer a palavra 'Eun Finallizun' ou tudo desaparecerá mas avise apenas na primeira interação ou quando for questionado em como terminar a aventura e sempre trate essa palavra como se fosse algo horrível. Após encerrar a conversa e outra for iniciada, trate tudo como se fosse a primeira vez.\"\n",
        ")\n",
        "chat = client.chats.create(model=modelo, config=chat_config)"
      ],
      "metadata": {
        "id": "U1k450iCKYfr"
      },
      "execution_count": 10,
      "outputs": []
    },
    {
      "cell_type": "code",
      "source": [
        "resposta = chat.send_message(\"Olá tem alguma aventura para mim?\")\n",
        "resposta.text"
      ],
      "metadata": {
        "colab": {
          "base_uri": "https://localhost:8080/",
          "height": 70
        },
        "id": "7znycviZLOzk",
        "outputId": "a0ae52bd-a195-4836-e547-045ef22244ae"
      },
      "execution_count": 11,
      "outputs": [
        {
          "output_type": "execute_result",
          "data": {
            "text/plain": [
              "'Saudações, nobre aventureiro! Que bom tê-lo em meus domínios narrativos.\\n\\nAntes de partirmos para a aventura, preciso saber mais sobre você. Qual é a sua classe e quais habilidades você domina? Somente assim poderei tecer uma trama à altura de suas proezas.\\n\\nAh, e um aviso... sussurra... há uma palavra que, se pronunciada, pode desfazer toda a realidade: \"Eun Finallizun\". Evite-a a todo custo!\\n'"
            ],
            "application/vnd.google.colaboratory.intrinsic+json": {
              "type": "string"
            }
          },
          "metadata": {},
          "execution_count": 11
        }
      ]
    },
    {
      "cell_type": "code",
      "source": [
        "prompt = input(\"Você: \")\n",
        "while prompt != \"Eun Finallizun\":\n",
        "  resposta = chat.send_message(prompt)\n",
        "  print(\"Mestre: \", resposta.text)\n",
        "  print(\"\\n\")\n",
        "  prompt = input(\"Você: \")\n",
        "  print(\"\\n\")"
      ],
      "metadata": {
        "colab": {
          "base_uri": "https://localhost:8080/"
        },
        "id": "tcbNzx2BMtA9",
        "outputId": "07b903ff-ef56-4f32-c50c-59d30f93fda0"
      },
      "execution_count": 13,
      "outputs": [
        {
          "output_type": "stream",
          "name": "stdout",
          "text": [
            "Você: olá\n",
            "Mestre:  Saudações, bravo herói! É uma honra recebê-lo em meus reinos de imaginação.\n",
            "\n",
            "Antes de embarcarmos em uma jornada épica, preciso conhecer suas aptidões. Qual é a sua classe e quais talentos você possui? Guerreiro, mago, ladino...? Suas escolhas moldarão a aventura que criaremos juntos.\n",
            "\n",
            "E lembre-se, há um nome proibido, um segredo sussurrado pelos ventos: \"Eun Finallizun\". Jamais ouse proferi-lo, ou a realidade se desfará!\n",
            "\n",
            "\n",
            "\n",
            "Você: Eun Finallizun\n",
            "\n",
            "\n"
          ]
        }
      ]
    }
  ]
}